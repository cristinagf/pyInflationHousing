{
 "cells": [
  {
   "cell_type": "markdown",
   "metadata": {},
   "source": [
    "---\n",
    "\n",
    "_You are currently looking at **version 1.1** of this notebook. To download notebooks and datafiles, as well as get help on Jupyter notebooks in the Coursera platform, visit the [Jupyter Notebook FAQ](https://www.coursera.org/learn/python-data-analysis/resources/0dhYG) course resource._\n",
    "\n",
    "---"
   ]
  },
  {
   "cell_type": "code",
   "execution_count": 151,
   "metadata": {
    "collapsed": true
   },
   "outputs": [],
   "source": [
    "import pandas as pd\n",
    "import numpy as np\n",
    "from scipy.stats import ttest_ind"
   ]
  },
  {
   "cell_type": "markdown",
   "metadata": {},
   "source": [
    "# Assignment 4 - Hypothesis Testing\n",
    "This assignment requires more individual learning than previous assignments - you are encouraged to check out the [pandas documentation](http://pandas.pydata.org/pandas-docs/stable/) to find functions or methods you might not have used yet, or ask questions on [Stack Overflow](http://stackoverflow.com/) and tag them as pandas and python related. And of course, the discussion forums are open for interaction with your peers and the course staff.\n",
    "\n",
    "Definitions:\n",
    "* A _quarter_ is a specific three month period, Q1 is January through March, Q2 is April through June, Q3 is July through September, Q4 is October through December.\n",
    "* A _recession_ is defined as starting with two consecutive quarters of GDP decline, and ending with two consecutive quarters of GDP growth.\n",
    "* A _recession bottom_ is the quarter within a recession which had the lowest GDP.\n",
    "* A _university town_ is a city which has a high percentage of university students compared to the total population of the city.\n",
    "\n",
    "**Hypothesis**: University towns have their mean housing prices less effected by recessions. Run a t-test to compare the ratio of the mean price of houses in university towns the quarter before the recession starts compared to the recession bottom. (`price_ratio=quarter_before_recession/recession_bottom`)\n",
    "\n",
    "The following data files are available for this assignment:\n",
    "* From the [Zillow research data site](http://www.zillow.com/research/data/) there is housing data for the United States. In particular the datafile for [all homes at a city level](http://files.zillowstatic.com/research/public/City/City_Zhvi_AllHomes.csv), ```City_Zhvi_AllHomes.csv```, has median home sale prices at a fine grained level.\n",
    "* From the Wikipedia page on college towns is a list of [university towns in the United States](https://en.wikipedia.org/wiki/List_of_college_towns#College_towns_in_the_United_States) which has been copy and pasted into the file ```university_towns.txt```.\n",
    "* From Bureau of Economic Analysis, US Department of Commerce, the [GDP over time](http://www.bea.gov/national/index.htm#gdp) of the United States in current dollars (use the chained value in 2009 dollars), in quarterly intervals, in the file ```gdplev.xls```. For this assignment, only look at GDP data from the first quarter of 2000 onward.\n",
    "\n",
    "Each function in this assignment below is worth 10%, with the exception of ```run_ttest()```, which is worth 50%."
   ]
  },
  {
   "cell_type": "code",
   "execution_count": 2,
   "metadata": {
    "collapsed": false
   },
   "outputs": [],
   "source": [
    "# Use this dictionary to map state names to two letter acronyms\n",
    "states = {'OH': 'Ohio', 'KY': 'Kentucky', 'AS': 'American Samoa', 'NV': 'Nevada', 'WY': 'Wyoming', 'NA': 'National', 'AL': 'Alabama', 'MD': 'Maryland', 'AK': 'Alaska', 'UT': 'Utah', 'OR': 'Oregon', 'MT': 'Montana', 'IL': 'Illinois', 'TN': 'Tennessee', 'DC': 'District of Columbia', 'VT': 'Vermont', 'ID': 'Idaho', 'AR': 'Arkansas', 'ME': 'Maine', 'WA': 'Washington', 'HI': 'Hawaii', 'WI': 'Wisconsin', 'MI': 'Michigan', 'IN': 'Indiana', 'NJ': 'New Jersey', 'AZ': 'Arizona', 'GU': 'Guam', 'MS': 'Mississippi', 'PR': 'Puerto Rico', 'NC': 'North Carolina', 'TX': 'Texas', 'SD': 'South Dakota', 'MP': 'Northern Mariana Islands', 'IA': 'Iowa', 'MO': 'Missouri', 'CT': 'Connecticut', 'WV': 'West Virginia', 'SC': 'South Carolina', 'LA': 'Louisiana', 'KS': 'Kansas', 'NY': 'New York', 'NE': 'Nebraska', 'OK': 'Oklahoma', 'FL': 'Florida', 'CA': 'California', 'CO': 'Colorado', 'PA': 'Pennsylvania', 'DE': 'Delaware', 'NM': 'New Mexico', 'RI': 'Rhode Island', 'MN': 'Minnesota', 'VI': 'Virgin Islands', 'NH': 'New Hampshire', 'MA': 'Massachusetts', 'GA': 'Georgia', 'ND': 'North Dakota', 'VA': 'Virginia'}"
   ]
  },
  {
   "cell_type": "code",
   "execution_count": 180,
   "metadata": {
    "collapsed": false
   },
   "outputs": [],
   "source": [
    "def get_list_of_university_towns():\n",
    "    '''Returns a DataFrame of towns and the states they are in from the \n",
    "    university_towns.txt list. The format of the DataFrame should be:\n",
    "    DataFrame( [ [\"Michigan\", \"Ann Arbor\"], [\"Michigan\", \"Yipsilanti\"] ], \n",
    "    columns=[\"State\", \"RegionName\"]  )\n",
    "    \n",
    "    The following cleaning needs to be done:\n",
    "\n",
    "    1. For \"State\", removing characters from \"[\" to the end.\n",
    "    2. For \"RegionName\", when applicable, removing every character from \" (\" to the end.\n",
    "    3. Depending on how you read the data, you may need to remove newline character '\\n'. '''\n",
    "    # Bear in mind that the data cleaning might result in trailing white space, if 2 is not followed correctly.\n",
    "\n",
    "    univtowns = pd.read_csv('university_towns.txt', sep='\\n', header = None)\n",
    "    univtowns['RegionName'] = univtowns[0]\n",
    "    univtowns['IsState'] = univtowns['RegionName'].str.contains('\\[edit\\]').astype(int)\n",
    "    univtowns['RawState'] = univtowns['IsState']*univtowns['RegionName'].str.replace(r\"\\[.*\\]\",'')\n",
    "    univtowns['RegionName'] = univtowns['RegionName'].str.replace(r\"\\(.*\",\"\").str.replace(r\"\\[.*\\]\",'')\n",
    "    univtowns['RegionName'] = univtowns['RegionName'].map(lambda x: x.rstrip().lstrip())\n",
    "    previousState=univtowns.iloc[0]['RawState']\n",
    "    for index,row  in univtowns.iterrows():\n",
    "        if (row['IsState']>0):\n",
    "            previousState=univtowns.iloc[index]['RawState']\n",
    "            univtowns.set_value(index, 'State', previousState)\n",
    "        else:\n",
    "            univtowns.set_value(index, 'State', previousState)\n",
    "    univtowns.drop('RawState', axis=1, inplace=True)    \n",
    "    univtowns.drop(univtowns.columns[0],axis=1,inplace=True)\n",
    "    univtowns = univtowns[univtowns['IsState']==0]\n",
    "\n",
    "    nd = univtowns['State'].to_frame()\n",
    "    nd['RegionName'] = univtowns['RegionName']\n",
    "    \n",
    "    return nd\n",
    "\n",
    "df = get_list_of_university_towns()\n",
    "#print (df[df['State'].str.contains('\\n') | df['RegionName'].str.contains('\\n')])\n",
    "#print(df[df['State'].str.contains('\\s$',regex=True) | df['RegionName'].str.contains('\\s$',regex=True)])\n",
    "#output should be in both cases: #Empty DataFrame, #Columns: [State, RegionName] #Index: []"
   ]
  },
  {
   "cell_type": "code",
   "execution_count": 152,
   "metadata": {
    "collapsed": false
   },
   "outputs": [
    {
     "data": {
      "text/plain": [
       "'2008q3'"
      ]
     },
     "execution_count": 152,
     "metadata": {},
     "output_type": "execute_result"
    }
   ],
   "source": [
    "def get_recession_start():\n",
    "    '''Returns the year and quarter of the recession start time as a \n",
    "    string value in a format such as 2005q3'''\n",
    "    '''From Bureau of Economic Analysis, US Department of Commerce, \n",
    "    the GDP over time of the United States in current dollars \n",
    "    use the chained value in 2009 dollars), in quarterly intervals, in the file gdplev.xls. \n",
    "    For this assignment, only look at GDP data from the first quarter of 2000 onward.'''\n",
    "    dfgdp = pd.read_excel('gdplev.xls',header=3, skiprows=2, skip_footer=0)\n",
    "    dfgdp.drop(dfgdp.columns[[0,1,2,3,7]],axis=1,inplace=True)\n",
    "    dfgdp.columns = ['YearQuarter', 'GDPcurrent', 'GDPchained']\n",
    "    dfgdp['Year'] = (dfgdp['YearQuarter'].str.replace(r\"q.*\",'')) \n",
    "    #pd.to_datetime(dfgdp['YearQuarter'].str.replace(r\"q.*\",''))\n",
    "    dfgdp = dfgdp[dfgdp['Year']> '1999'] #'1999-12-31']\n",
    "    dfgdp['Quarter'] = (dfgdp['YearQuarter'].str.replace(r\".*q\",''))\n",
    "    dfgdp = dfgdp.reset_index()\n",
    "    #dfgdp = dfgdp.set_index(['Year','Quarter'])\n",
    "    dfgdp.drop('index', axis=1, inplace=True)\n",
    "    dfgdp.drop('YearQuarter', axis=1, inplace=True)\n",
    "    \n",
    "    '''A recession is defined as starting with \n",
    "    two consecutive quarters of GDP decline, and ending with two consecutive quarters of GDP growth.'''\n",
    "    recesstartYear=0\n",
    "    recesstartQ=0\n",
    "    previousGdp=0\n",
    "    SearchStartRecession=True\n",
    "    IsPreviousDecline=False\n",
    "    for index,row  in dfgdp.iterrows():\n",
    "        if (SearchStartRecession):\n",
    "            if (row['GDPchained']<previousGdp):                \n",
    "                if (IsPreviousDecline):\n",
    "                    SearchStartRecession=False                    \n",
    "                IsPreviousDecline=True\n",
    "                if (SearchStartRecession):\n",
    "                    recesstartYear=row['Year']\n",
    "                    recesstartQ=row['Quarter']\n",
    "            else:\n",
    "                IsPreviousDecline=False\n",
    "            previousGdp=dfgdp.iloc[index]['GDPchained']\n",
    "\n",
    "    recesstart=recesstartYear+'q'+recesstartQ\n",
    "    #print(recesstart)\n",
    "    #print(dfgdp.tail(35).head(6))\n",
    "\n",
    "    return recesstart\n",
    "get_recession_start()"
   ]
  },
  {
   "cell_type": "code",
   "execution_count": 156,
   "metadata": {
    "collapsed": false
   },
   "outputs": [
    {
     "data": {
      "text/plain": [
       "'2009q4'"
      ]
     },
     "execution_count": 156,
     "metadata": {},
     "output_type": "execute_result"
    }
   ],
   "source": [
    "def get_recession_end():\n",
    "    '''Returns the year and quarter of the recession end time as a \n",
    "    string value in a format such as 2005q3'''\n",
    "    import re\n",
    "\n",
    "    recesstartYearQ=get_recession_start()   \n",
    "    startYear = re.sub(r\"q.*\",'', recesstartYearQ)\n",
    "    startQ = re.sub(r\".*q\",'', recesstartYearQ)\n",
    "    #--------------------------------------\n",
    "    dfgdp = pd.read_excel('gdplev.xls',header=3, skiprows=2, skip_footer=0)\n",
    "    dfgdp.drop(dfgdp.columns[[0,1,2,3,7]],axis=1,inplace=True)\n",
    "    dfgdp.columns = ['YearQuarter', 'GDPcurrent', 'GDPchained']\n",
    "    dfgdp['Year'] = (dfgdp['YearQuarter'].str.replace(r\"q.*\",'')) \n",
    "    #pd.to_datetime(dfgdp['YearQuarter'].str.replace(r\"q.*\",''))\n",
    "    dfgdp = dfgdp[dfgdp['Year']>= startYear] #'1999-12-31'] #Include quarter!\n",
    "    dfgdp['Quarter'] = (dfgdp['YearQuarter'].str.replace(r\".*q\",''))\n",
    "    dfgdp = dfgdp.reset_index()\n",
    "    dfgdp.drop('index', axis=1, inplace=True)\n",
    "    dfgdp.drop('YearQuarter', axis=1, inplace=True)\n",
    "    dfgdp.drop('GDPcurrent', axis=1, inplace=True)\n",
    "\n",
    "    #print(dfgdp)\n",
    "    '''A recession is defined as ending with two consecutive quarters of GDP growth.'''\n",
    "    recessendYear=10000\n",
    "    recessendQ=0\n",
    "    previousGdp=dfgdp.iloc[0]['GDPchained']\n",
    "    SearchEndRecession=True\n",
    "    IsPreviousRise=False\n",
    "    \n",
    "    for index,row  in dfgdp.iterrows():\n",
    "        if (SearchEndRecession):\n",
    "            \n",
    "            if (row['GDPchained']>previousGdp):\n",
    "                recessendYear=row['Year']\n",
    "                recessendQ=row['Quarter']\n",
    "                if (IsPreviousRise):\n",
    "                    SearchEndRecession=False                    \n",
    "                IsPreviousRise=True\n",
    "            else:\n",
    "                IsPreviousRise=False\n",
    "            previousGdp=dfgdp.iloc[index]['GDPchained']\n",
    "\n",
    "    recessend=recessendYear+'q'+recessendQ\n",
    "    return recessend\n",
    "       \n",
    "get_recession_end()"
   ]
  },
  {
   "cell_type": "code",
   "execution_count": 157,
   "metadata": {
    "collapsed": false
   },
   "outputs": [
    {
     "data": {
      "text/plain": [
       "'2009q2'"
      ]
     },
     "execution_count": 157,
     "metadata": {},
     "output_type": "execute_result"
    }
   ],
   "source": [
    "def get_recession_bottom():\n",
    "    '''Returns the year and quarter of the recession bottom time as a \n",
    "    string value in a format such as 2005q3'''\n",
    "    import re\n",
    "\n",
    "    recesstartYearQ=get_recession_start()   \n",
    "    startYear = re.sub(r\"q.*\",'', recesstartYearQ)\n",
    "    startQ = re.sub(r\".*q\",'', recesstartYearQ)\n",
    "    recessendYearQ=get_recession_end()   \n",
    "    endYear = re.sub(r\"q.*\",'', recessendYearQ)\n",
    "    endQ = re.sub(r\".*q\",'', recessendYearQ)\n",
    "    #print(startYear)\n",
    "    #print(endYear)\n",
    "    #--------------------------------------\n",
    "    dfgdp = pd.read_excel('gdplev.xls',header=3, skiprows=2, skip_footer=0)\n",
    "    dfgdp.drop(dfgdp.columns[[0,1,2,3,7]],axis=1,inplace=True)\n",
    "    dfgdp.columns = ['YearQuarter', 'GDPcurrent', 'GDPchained']\n",
    "    dfgdp['Year'] = (dfgdp['YearQuarter'].str.replace(r\"q.*\",'')) \n",
    "    dfgdp = dfgdp[dfgdp['Year']>= startYear] #'1999-12-31'] #Include quarter!\n",
    "    dfgdp = dfgdp[dfgdp['Year']<= endYear] \n",
    "    dfgdp['Quarter'] = (dfgdp['YearQuarter'].str.replace(r\".*q\",''))\n",
    "    dfgdp = dfgdp.reset_index()\n",
    "    dfgdp.drop('index', axis=1, inplace=True)\n",
    "    dfgdp.drop('YearQuarter', axis=1, inplace=True)\n",
    "    dfgdp.drop('GDPcurrent', axis=1, inplace=True)\n",
    "    #print(dfgdp)\n",
    "    \n",
    "    #ndf= dfgdp['GDPchained']\n",
    "    #print(dfgdp.info())\n",
    "    iGDPmin = dfgdp['GDPchained'].idxmin()\n",
    "    recessbottom=(dfgdp.iloc[iGDPmin]['Year'] + 'q' + dfgdp.iloc[iGDPmin]['Quarter'])\n",
    "    #--------------------------------------\n",
    "    return recessbottom\n",
    "\n",
    "get_recession_bottom()"
   ]
  },
  {
   "cell_type": "code",
   "execution_count": 148,
   "metadata": {
    "collapsed": false,
    "scrolled": false
   },
   "outputs": [],
   "source": [
    "def convert_housing_data_to_quarters():\n",
    "    '''Converts the housing data to quarters and returns it as mean \n",
    "    values in a dataframe. This dataframe should be a dataframe with\n",
    "    columns for 2000q1 through 2016q3, and should have a multi-index\n",
    "    in the shape of [\"State\",\"RegionName\"].\n",
    "    Note: Quarters are defined in the assignment description, they are\n",
    "    not arbitrary three month periods.    \n",
    "    The resulting dataframe should have 67 columns, and 10,730 rows.  \n",
    "    '''\n",
    "    housingdf = pd.read_csv('City_Zhvi_AllHomes.csv', header = 0)\n",
    "    #print(housingdf.iloc[0:5,123:129])\n",
    "    \n",
    "    startcol=(housingdf.columns.get_loc('2000-01'))\n",
    "    endcol=(housingdf.columns.get_loc('2016-08'))+1\n",
    "    ndf = housingdf.iloc[:, startcol:endcol]\n",
    "    \n",
    "    ndf = ndf.T\n",
    "    ndf.index = pd.to_datetime(ndf.index) \n",
    "    #ndf = ndf.resample('90D').mean()\n",
    "    #print(ndf.iloc[71:77,0:5]) #print(ndf.iloc[51:57,0:5])\n",
    "    ndf = ndf.resample('Q', convention='end').apply(np.mean)\n",
    "    #print(ndf.iloc[18:28,0:4])\n",
    "    \n",
    "    Qhousingdf=ndf.T.copy()\n",
    "    #-------------------------------\n",
    "    cols = []\n",
    "    for year in range(2000, 2017):\n",
    "        for quarter in range(1, 5):\n",
    "            nname = (str(year) + 'q' + str(quarter))\n",
    "            cols.append(nname)\n",
    "    cols=cols[0:67]\n",
    "               \n",
    "    Qhousingdf.columns = cols\n",
    "    \n",
    "    \n",
    "    colskeep=['State','RegionName'] #,'RegionID']\n",
    "    infodf = housingdf[colskeep]\n",
    "    Qhousingdf = pd.concat([Qhousingdf, infodf], axis=1)\n",
    "    \n",
    "    colsorder = colskeep + cols\n",
    "    Qhousingdf = Qhousingdf[colsorder]\n",
    "    Qhousingdf['State'].replace(states, inplace=True)\n",
    "    \n",
    "    Qhousingdf = Qhousingdf.set_index(['State','RegionName'])\n",
    "    \n",
    "    #Qhousingdf.drop('2016q4', axis=1, inplace=True)    \n",
    "    Qhousingdf = Qhousingdf.sort_index()\n",
    "    #Qhousingdf.to_csv('aQhousingdf.csv')\n",
    "    #print(Qhousingdf.head())\n",
    "    ''' xx '''\n",
    "    #-------------------------------\n",
    "    return Qhousingdf\n",
    "\n",
    "df=convert_housing_data_to_quarters()\n",
    "#print(df)\n",
    "#print(df.iloc[6238:6240, 24:28])#print(df[df['State'].str.contains('Alas')].head())"
   ]
  },
  {
   "cell_type": "code",
   "execution_count": 337,
   "metadata": {
    "collapsed": false
   },
   "outputs": [
    {
     "name": "stderr",
     "output_type": "stream",
     "text": [
      "/home/latini/anaconda3/lib/python3.5/site-packages/ipykernel/__main__.py:25: SettingWithCopyWarning: \n",
      "A value is trying to be set on a copy of a slice from a DataFrame\n",
      "\n",
      "See the caveats in the documentation: http://pandas.pydata.org/pandas-docs/stable/indexing.html#indexing-view-versus-copy\n",
      "/home/latini/anaconda3/lib/python3.5/site-packages/ipykernel/__main__.py:30: SettingWithCopyWarning: \n",
      "A value is trying to be set on a copy of a slice from a DataFrame.\n",
      "Try using .loc[row_indexer,col_indexer] = value instead\n",
      "\n",
      "See the caveats in the documentation: http://pandas.pydata.org/pandas-docs/stable/indexing.html#indexing-view-versus-copy\n",
      "/home/latini/anaconda3/lib/python3.5/site-packages/ipykernel/__main__.py:31: SettingWithCopyWarning: \n",
      "A value is trying to be set on a copy of a slice from a DataFrame\n",
      "\n",
      "See the caveats in the documentation: http://pandas.pydata.org/pandas-docs/stable/indexing.html#indexing-view-versus-copy\n"
     ]
    },
    {
     "name": "stdout",
     "output_type": "stream",
     "text": [
      "<class 'bool'>\n",
      "<class 'float'>\n",
      "<class 'str'>\n"
     ]
    },
    {
     "data": {
      "text/plain": [
       "(True, 0.005496427353694603, 'university town')"
      ]
     },
     "execution_count": 337,
     "metadata": {},
     "output_type": "execute_result"
    }
   ],
   "source": [
    "def run_ttest():\n",
    "    '''1 Merged university towns with all towns data to get a set that's common to both, i.e., university towns\n",
    "    that exist in all towns.\n",
    "    2 Subtracted this from the all towns data to get towns with no universities.\n",
    "    3 Computed price ratio: quarter BEFORE recession start / recession bottom quarter.\n",
    "    4 Computed the tuple requested. '''\n",
    "    \n",
    "    '''First creates new data showing the decline or growth of housing prices\n",
    "    between the recession start and the recession bottom. Then runs a ttest\n",
    "    comparing the university town values to the non-university towns values, \n",
    "    return whether the alternative hypothesis (that the two groups are the same)\n",
    "    is true or not as well as the p-value of the confidence.  '''\n",
    "    \n",
    "    \n",
    "    recStart=get_recession_start()\n",
    "    recBottom=get_recession_bottom()\n",
    "    cols=[ recStart, recBottom]\n",
    "    #print('Compare:' + recStart + ' vs ' + recBottom)\n",
    "    \n",
    "    hdf = convert_housing_data_to_quarters()\n",
    "    iCStart=hdf.columns.get_loc(recStart)\n",
    "    iCEnd=hdf.columns.get_loc(recBottom) +1\n",
    "    \n",
    "    df = hdf[cols]\n",
    "    df.dropna(axis=0, how='all',inplace='True') #Drop!!!  #  print(len(df)) \n",
    "    \n",
    "    ''' Hypothesis: University towns have their mean housing prices less effected by recessions. \n",
    "    Run a t-test to compare the ratio of the mean price of houses in university towns the quarter \n",
    "    before the recession starts compared to the recession bottom. (price_ratio=quarter_before_recession/recession_bottom)'''\n",
    "    df['price_ratio']=df[recStart]/df[recBottom]\n",
    "    df.drop(df.columns[[0,1]],axis=1,inplace=True)\n",
    "    #print((df.info()))     \n",
    "    #-----------------------------------------------\n",
    "    ul = get_list_of_university_towns()\n",
    "    ul.set_index(['State','RegionName'],inplace=True)\n",
    "    \n",
    "    dfUniv =pd.merge(ul, df, how = 'left', left_index='True', right_index='True')    \n",
    "    \n",
    "    dfNUniv = hdf.index.difference(dfUniv.index)#\n",
    "    dfNUniv = pd.DataFrame(index=dfNUniv)\n",
    "    dfNUniv = pd.merge(dfNUniv, df, how = 'left', left_index=True, right_index=True)\n",
    "    \n",
    "    dfUniv.dropna(axis=0,inplace='True')\n",
    "    dfNUniv.dropna(axis=0,inplace='True')\n",
    "\n",
    "    #print(dfUniv.info()) #.head())\n",
    "    #print()\n",
    "    #print(dfNUniv.info()) #head())\n",
    "    #print( str(len(dfUniv)) + '-' +str(len(dfNUniv)) )\n",
    "    #dfNUniv.to_csv('aDfnu.csv')\n",
    "    \n",
    "    #------- ttest evaluation -----------------------------------------\n",
    "    #ttest = ttest_ind(dfUniv['price_ratio'],dfNUniv['price_ratio'],nan_policy = 'omit', equal_var='True')\n",
    "    #print(ttest)\n",
    "    ttest = ttest_ind(dfUniv['price_ratio'],dfNUniv['price_ratio'], equal_var='True')\n",
    "    #--- \n",
    "    ttestresult = str(ttest[1:2])\n",
    "    pvalue = float(ttestresult[1:(len(ttestresult)-2)])\n",
    "    #print(ttest)\n",
    "    #print(pvalue)\n",
    "    \n",
    "    #----- Mean comparison ------------\n",
    "    if ( dfUniv['price_ratio'].mean() < dfNUniv['price_ratio'].mean() ):\n",
    "        better = \"university town\"\n",
    "    else: \n",
    "        better = \"non-university town\"\n",
    "        \n",
    "    #----- Hypothesis Rejection --------------\n",
    "    if pvalue < 0.01:\n",
    "        different=True\n",
    "    else: \n",
    "        different=False\n",
    "        \n",
    "    '''Return the tuple (different, p, better) where \n",
    "    different=True if the t-test is True at a p<0.01 (we reject the null hypothesis), or different=False if \n",
    "    otherwise (we cannot reject the null hypothesis). \n",
    "    The variable p should be equal to the exact p value returned from scipy.stats.ttest_ind(). \n",
    "    The value for better should be either \"university town\" or \"non-university town\"\n",
    "    depending on which has a lower mean price ratio (which is equivalent to a\n",
    "    reduced market loss).'''\n",
    "    \n",
    "    print(type(different))\n",
    "    print(type(pvalue))\n",
    "    print(type(better))\n",
    "    return (different, pvalue, better)\n",
    "run_ttest()\n"
   ]
  },
  {
   "cell_type": "code",
   "execution_count": 326,
   "metadata": {
    "collapsed": false
   },
   "outputs": [
    {
     "ename": "NameError",
     "evalue": "name 'ul' is not defined",
     "output_type": "error",
     "traceback": [
      "\u001b[0;31m---------------------------------------------------------------------------\u001b[0m",
      "\u001b[0;31mNameError\u001b[0m                                 Traceback (most recent call last)",
      "\u001b[0;32m<ipython-input-326-3b2d718b64ce>\u001b[0m in \u001b[0;36m<module>\u001b[0;34m()\u001b[0m\n\u001b[1;32m      5\u001b[0m \u001b[0;31m##ndf=pd.merge(df, ul, how = 'inner', left_index='True', right_on=['State','RegionName'])\u001b[0m\u001b[0;34m\u001b[0m\u001b[0;34m\u001b[0m\u001b[0m\n\u001b[1;32m      6\u001b[0m \u001b[0;31m#dfu =pd.merge(ul, df, how = 'left', left_on=['State','RegionName'], right_index='True')\u001b[0m\u001b[0;34m\u001b[0m\u001b[0;34m\u001b[0m\u001b[0m\n\u001b[0;32m----> 7\u001b[0;31m \u001b[0mdfu\u001b[0m \u001b[0;34m=\u001b[0m\u001b[0mpd\u001b[0m\u001b[0;34m.\u001b[0m\u001b[0mmerge\u001b[0m\u001b[0;34m(\u001b[0m\u001b[0mul\u001b[0m\u001b[0;34m,\u001b[0m \u001b[0mdf\u001b[0m\u001b[0;34m,\u001b[0m \u001b[0mhow\u001b[0m \u001b[0;34m=\u001b[0m \u001b[0;34m'left'\u001b[0m\u001b[0;34m,\u001b[0m \u001b[0mleft_index\u001b[0m\u001b[0;34m=\u001b[0m\u001b[0;34m'True'\u001b[0m\u001b[0;34m,\u001b[0m \u001b[0mright_index\u001b[0m\u001b[0;34m=\u001b[0m\u001b[0;34m'True'\u001b[0m\u001b[0;34m)\u001b[0m\u001b[0;34m\u001b[0m\u001b[0m\n\u001b[0m\u001b[1;32m      8\u001b[0m \u001b[0;31m##print(ndf.info())\u001b[0m\u001b[0;34m\u001b[0m\u001b[0;34m\u001b[0m\u001b[0m\n\u001b[1;32m      9\u001b[0m \u001b[0;34m\u001b[0m\u001b[0m\n",
      "\u001b[0;31mNameError\u001b[0m: name 'ul' is not defined"
     ]
    }
   ],
   "source": [
    "    ul = get_list_of_university_towns()\n",
    "    ul.set_index(['State','RegionName'],inplace=True)\n",
    "    #ul.set_index(['State','RegionName'],drop=True,inplace=True) #Drop!!!\n",
    "    #print ((ul))#print(df.index.names)\n",
    "    \n",
    "    ##ndf=pd.merge(df, ul, how = 'inner', left_index='True', right_on=['State','RegionName'])\n",
    "    #dfu =pd.merge(ul, df, how = 'left', left_on=['State','RegionName'], right_index='True')\n",
    "    dfu =pd.merge(ul, df, how = 'left', left_index='True', right_index='True')\n",
    "    ##print(ndf.info())\n",
    "    \n",
    "    print(len(dfu))\n",
    "    dfnu = hdf.index.difference(dfu.index)#\n",
    "    #print(hdf.head(15))\n",
    "    dfnu = pd.DataFrame(index=dfnu)\n",
    "    \n",
    "    #dfnu['x']=0\n",
    "    print(dfu.info()) #.head())\n",
    "    \n",
    "    dfnu = pd.merge(dfnu, df, how = 'left', left_index=True, right_index=True)\n",
    "    print(len(dfnu))\n",
    "    print(dfnu.info()) #head())\n",
    "    ''' x '''\n",
    "    \n",
    "    #dfnu = hdf.index.difference(dfu.index)#find index values are different \n",
    "    #dfnu = pd.DataFrame(index=dfnu)\n",
    "    #dfnu = pd.merge(dfnu, hdf, how = 'left', left_index=True, right_index=True)###merge to\n",
    "    \n",
    "    ##run ttest\n",
    "    ##ttest = ttest_ind(dfu['price_ratio'],dfnu['price_ratio'],nan_policy = 'omit', equal_var='True')\n"
   ]
  },
  {
   "cell_type": "code",
   "execution_count": null,
   "metadata": {
    "collapsed": true
   },
   "outputs": [],
   "source": []
  }
 ],
 "metadata": {
  "anaconda-cloud": {},
  "coursera": {
   "course_slug": "python-data-analysis",
   "graded_item_id": "Il9Fx",
   "launcher_item_id": "TeDW0",
   "part_id": "WGlun"
  },
  "kernelspec": {
   "display_name": "Python [default]",
   "language": "python",
   "name": "python3"
  },
  "language_info": {
   "codemirror_mode": {
    "name": "ipython",
    "version": 3
   },
   "file_extension": ".py",
   "mimetype": "text/x-python",
   "name": "python",
   "nbconvert_exporter": "python",
   "pygments_lexer": "ipython3",
   "version": "3.5.2"
  }
 },
 "nbformat": 4,
 "nbformat_minor": 0
}
